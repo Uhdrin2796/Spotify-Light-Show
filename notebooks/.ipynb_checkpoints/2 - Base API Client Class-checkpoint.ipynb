{
 "cells": [
  {
   "cell_type": "code",
   "execution_count": 1,
   "id": "f094ec3e",
   "metadata": {},
   "outputs": [
    {
     "name": "stdout",
     "output_type": "stream",
     "text": [
      "Requirement already satisfied: requests in c:\\users\\aluca\\.virtualenvs\\spotify-light-show-okfwy01m\\lib\\site-packages (2.28.2)\n",
      "Requirement already satisfied: charset-normalizer<4,>=2 in c:\\users\\aluca\\.virtualenvs\\spotify-light-show-okfwy01m\\lib\\site-packages (from requests) (3.0.1)\n",
      "Requirement already satisfied: idna<4,>=2.5 in c:\\users\\aluca\\.virtualenvs\\spotify-light-show-okfwy01m\\lib\\site-packages (from requests) (3.4)\n",
      "Requirement already satisfied: urllib3<1.27,>=1.21.1 in c:\\users\\aluca\\.virtualenvs\\spotify-light-show-okfwy01m\\lib\\site-packages (from requests) (1.26.14)\n",
      "Requirement already satisfied: certifi>=2017.4.17 in c:\\users\\aluca\\.virtualenvs\\spotify-light-show-okfwy01m\\lib\\site-packages (from requests) (2022.12.7)\n"
     ]
    }
   ],
   "source": [
    "!pip install requests"
   ]
  },
  {
   "cell_type": "code",
   "execution_count": 2,
   "id": "d5455eee",
   "metadata": {},
   "outputs": [],
   "source": [
    "import requests\n",
    "import datetime\n",
    "import base64"
   ]
  },
  {
   "cell_type": "code",
   "execution_count": 3,
   "id": "6010141c",
   "metadata": {},
   "outputs": [],
   "source": [
    "client_id = \"11ff7112cf044de8bb8626fb93505bbc\"\n",
    "client_secret = \"551ab8978f3d4ea5a1c57ce762373ae7\""
   ]
  },
  {
   "cell_type": "code",
   "execution_count": 26,
   "id": "5375c4ca",
   "metadata": {},
   "outputs": [],
   "source": [
    "class SpotifyAPI(object):\n",
    "    access_token = None\n",
    "    access_token_expires = datetime.datetime.now()\n",
    "    access_token_did_expire = True\n",
    "    client_id = None\n",
    "    client_secret = None\n",
    "    token_url = \"https://accounts.spotify.com/api/token\"\n",
    "    method = \"POST\"\n",
    "    \n",
    "    \n",
    "    def __init__(self,client_id,client_secret,*args, **kwargs):\n",
    "        super().__init__(*args, **kwargs)\n",
    "        self.client_id = client_id\n",
    "        self.client_secret =client_secret\n",
    "        \n",
    "    def get_client_credentials(self):\n",
    "        \"\"\"\"\"\"\n",
    "        \"Returns a base64 encoded string\"\n",
    "        \"\"\"\"\"\"\n",
    "        client_id = self.client_id\n",
    "        client_secret = self.client_secret\n",
    "        if client_secret == None or client_id == None:\n",
    "            raise Exemption(\"You must set client_id and client_secret\")\n",
    "        client_creds = f\"{client_id}:{client_secret}\" #Client details as string\n",
    "        client_creds_b64 =base64.b64encode(client_creds.encode()) #Turn string into base64 type\n",
    "        return client_creds_b64.decode() #Return as decoded base64 string\n",
    "        \n",
    "    def get_token_headers(self):\n",
    "        \n",
    "        client_creds_b64 = self.get_client_credentials() #get decoded client credentials.\n",
    "        return {\n",
    "            \"Authorization\" : f\"Basic {client_creds_b64}\" \n",
    "        }\n",
    "    def get_token_data(self):\n",
    "        return {\n",
    "            \"grant_type\":\"client_credentials\"\n",
    "        }\n",
    "    \n",
    "    def perform_auth(self):\n",
    "        token_url = self.token_url\n",
    "        token_data = self.get_token_data()\n",
    "        token_headers = self.get_token_headers()\n",
    "        r = requests.post(token_url, data=token_data, headers=token_headers)\n",
    "        if r.status_code not in range(200,299):\n",
    "            return False\n",
    "        data = r.json()\n",
    "        now = datetime.datetime.now()\n",
    "        access_token = data['access_token']\n",
    "        self.access_token = access_token\n",
    "        expires_in = data['expires_in'] #in seconds\n",
    "        token_type = data['token_type'] \n",
    "        expires = now + datetime.timedelta(seconds=expires_in)\n",
    "        self.access_toke_expires = expires\n",
    "        self.access_token_did_expire = expires < now\n",
    "        return True\n",
    "        "
   ]
  },
  {
   "cell_type": "code",
   "execution_count": 27,
   "id": "6540eb29",
   "metadata": {},
   "outputs": [],
   "source": [
    "spotify = SpotifyAPI(client_id,client_secret)"
   ]
  },
  {
   "cell_type": "code",
   "execution_count": 28,
   "id": "a716e0a3",
   "metadata": {},
   "outputs": [
    {
     "data": {
      "text/plain": [
       "True"
      ]
     },
     "execution_count": 28,
     "metadata": {},
     "output_type": "execute_result"
    }
   ],
   "source": [
    "spotify.perform_auth()"
   ]
  },
  {
   "cell_type": "code",
   "execution_count": 29,
   "id": "a0df3696",
   "metadata": {},
   "outputs": [
    {
     "data": {
      "text/plain": [
       "'BQCZPjpTxteVDHKWiNXgAQ9xpNnML3D1I4DvAVWAUEBPSn9zFldZ_PWhc5jTlaGue6pjGzZqAdno7dsgbjANe-oOxWkYr4jG1WHxv1jC7juqqQJKm_GE'"
      ]
     },
     "execution_count": 29,
     "metadata": {},
     "output_type": "execute_result"
    }
   ],
   "source": [
    "spotify.access_token"
   ]
  }
 ],
 "metadata": {
  "kernelspec": {
   "display_name": "Python 3 (ipykernel)",
   "language": "python",
   "name": "python3"
  },
  "language_info": {
   "codemirror_mode": {
    "name": "ipython",
    "version": 3
   },
   "file_extension": ".py",
   "mimetype": "text/x-python",
   "name": "python",
   "nbconvert_exporter": "python",
   "pygments_lexer": "ipython3",
   "version": "3.10.4"
  }
 },
 "nbformat": 4,
 "nbformat_minor": 5
}
